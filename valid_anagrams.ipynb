{
 "cells": [
  {
   "cell_type": "code",
   "execution_count": 1,
   "metadata": {},
   "outputs": [],
   "source": [
    "# We have some 'dictionary' which is a list of words. We also have an input word. \n",
    "# The function validAnagrams should take the dictonary and input word as arguments, \n",
    "# and return all anagrams of the input word which are in the dicitonary "
   ]
  },
  {
   "cell_type": "code",
   "execution_count": 2,
   "metadata": {},
   "outputs": [],
   "source": [
    "# Breaking this down, we can:\n",
    "# 1. generate all the anagrams of the input word\n",
    "# (i.e unique permutations of all the letters in the input word)\n",
    "\n",
    "# 2. check whether each anagram is in the 'dictionary'"
   ]
  },
  {
   "cell_type": "code",
   "execution_count": 3,
   "metadata": {},
   "outputs": [],
   "source": [
    "# Generating all anagrams recursively\n",
    "# In the interview, I/we used the '.permutations' method from the itertools library, here I want to practice\n",
    "\n",
    "# Returns the list of words we can create by inserting a new character into a word\n",
    "def insertCharEverywhere(ch,word):\n",
    "    new_words = []\n",
    "    \n",
    "    for i in range(0,len(word)+1):\n",
    "        new_word = word[:i] + ch + word[i:]\n",
    "        new_words.append(new_word)\n",
    "        \n",
    "    return new_words"
   ]
  },
  {
   "cell_type": "code",
   "execution_count": 4,
   "metadata": {},
   "outputs": [
    {
     "name": "stdout",
     "output_type": "stream",
     "text": [
      "['a']\n",
      "['ab', 'ba']\n",
      "['abbb', 'babb', 'bbab', 'bbba']\n"
     ]
    }
   ],
   "source": [
    "# test \n",
    "print(insertCharEverywhere('a',''))\n",
    "print(insertCharEverywhere('a','b'))\n",
    "print(insertCharEverywhere('a','bbb'))"
   ]
  },
  {
   "cell_type": "code",
   "execution_count": 5,
   "metadata": {},
   "outputs": [],
   "source": [
    "# Returns the unique permutations of all the letters in the input word\n",
    "# \n",
    "def recursiveUniquePermutations(word):\n",
    "    \n",
    "    # base case \n",
    "    # if word is length 0 or 1, the word itself is the only permutation\n",
    "    if len(word) <= 1:\n",
    "        return [word]\n",
    "    \n",
    "    # recursive step\n",
    "    else:\n",
    "        next_perms = []\n",
    "        # We use the permutations of N-1 (the tail), to generate the permutations of N\n",
    "        perms = recursiveUniquePermutations(word[1:])\n",
    "        for perm in perms:\n",
    "            new_perms = insertCharEverywhere(word[0],perm)\n",
    "            for new_perm in new_perms:\n",
    "                # test uniqueness before adding.\n",
    "                if new_perm not in next_perms:\n",
    "                    next_perms.append(new_perm)\n",
    "        return next_perms\n",
    "    "
   ]
  },
  {
   "cell_type": "code",
   "execution_count": 6,
   "metadata": {},
   "outputs": [
    {
     "name": "stdout",
     "output_type": "stream",
     "text": [
      "['']\n",
      "['a']\n",
      "['ab', 'ba']\n",
      "['abc', 'bac', 'bca', 'acb', 'cab', 'cba']\n",
      "['abb', 'bab', 'bba']\n"
     ]
    }
   ],
   "source": [
    "#test \n",
    "print(recursiveUniquePermutations(''))\n",
    "print(recursiveUniquePermutations('a'))\n",
    "print(recursiveUniquePermutations('ab'))\n",
    "print(recursiveUniquePermutations('abc'))\n",
    "print(recursiveUniquePermutations('abb'))"
   ]
  },
  {
   "cell_type": "code",
   "execution_count": 7,
   "metadata": {},
   "outputs": [],
   "source": [
    "# Check whether anagram is in dictionary \n",
    "\n",
    "# initially I created this function, which compares each word in the dictionary against the target word (an anagram)\n",
    "# and returns false if we go past where it would be alphabetically or if we reach the end\n",
    "# and true if we find it\n",
    "def isWordInList(target_word,word_list):\n",
    "    for word in word_list:\n",
    "        if word == target_word:\n",
    "            return True \n",
    "        # gone past where word would be alphabetically\n",
    "        elif word > target_word:\n",
    "            return False \n",
    "    return False "
   ]
  },
  {
   "cell_type": "code",
   "execution_count": 8,
   "metadata": {},
   "outputs": [
    {
     "name": "stdout",
     "output_type": "stream",
     "text": [
      "True\n",
      "False\n",
      "False\n",
      "False\n"
     ]
    }
   ],
   "source": [
    "# test \n",
    "dictionary = ('charlie','henry','hollie','fred')\n",
    "\n",
    "print(isWordInList('henry',dictionary))\n",
    "print(isWordInList('dance',dictionary))\n",
    "print(isWordInList('apple',dictionary))\n",
    "print(isWordInList('zulu',dictionary))"
   ]
  },
  {
   "cell_type": "code",
   "execution_count": 9,
   "metadata": {},
   "outputs": [],
   "source": [
    "# then i realised i could save a lot of time by turning to the middle word of the dictionary, \n",
    "# and going left or right based on alphabetical order, then the same again.\n",
    "# in other words, binary chopping recursively\n",
    "\n",
    "def wordListBinaryChop(target_word,word_list,X):\n",
    "    # base case \n",
    "    # some trade-off in choosing X, hence set up as parameter to function \n",
    "    # smaller x = more recursive calls, may cause stack overflow. \n",
    "    if len(word_list) < X: \n",
    "        return isWordInList(target_word,word_list)\n",
    "        \n",
    "    # recursive step\n",
    "    else:\n",
    "        mid = len(word_list) // 2\n",
    "        head = word_list[:mid]\n",
    "        tail = word_list[mid:]\n",
    "\n",
    "        if target_word <= head[-1]:\n",
    "             # keep working on the head\n",
    "            return wordListBinaryChop(target_word,head,X)\n",
    "\n",
    "        else:\n",
    "            # work on the tail\n",
    "            return wordListBinaryChop(target_word,tail,X)\n"
   ]
  },
  {
   "cell_type": "code",
   "execution_count": 10,
   "metadata": {},
   "outputs": [
    {
     "name": "stdout",
     "output_type": "stream",
     "text": [
      "False\n",
      "\n",
      "\n",
      "True\n"
     ]
    }
   ],
   "source": [
    "# test \n",
    "dictionary = ('alan','ben','charlie','dennis','ed','fred','henry','hollie','ian','john','wayne','zulu')       \n",
    "print(wordListBinaryChop('tululua',dictionary,4))\n",
    "print('\\n')\n",
    "print(wordListBinaryChop('charlie',dictionary,4))"
   ]
  },
  {
   "cell_type": "code",
   "execution_count": 11,
   "metadata": {},
   "outputs": [],
   "source": [
    "# putting this together \n",
    "\n",
    "def validAnagrams(word,dictionary):\n",
    "    # generate the unqiue permutations\n",
    "    unique_permutations = recursiveUniquePermutations(word)\n",
    "    \n",
    "    \n",
    "    valid_anagrams = []\n",
    "    for perm in unique_permutations:\n",
    "        if wordListBinaryChop(perm,dictionary,5):\n",
    "            valid_anagrams.append(perm)\n",
    "  \n",
    "    return valid_anagrams\n",
    "        \n",
    "        "
   ]
  },
  {
   "cell_type": "code",
   "execution_count": 12,
   "metadata": {},
   "outputs": [
    {
     "name": "stdout",
     "output_type": "stream",
     "text": [
      "['ab', 'ba']\n",
      "['ba', 'ab']\n",
      "[]\n"
     ]
    }
   ],
   "source": [
    "# test \n",
    "dictionary = ('aa','aab','ab','aba','ba','cd')\n",
    "print(validAnagrams('ab',dictionary))\n",
    "print(validAnagrams('ba',dictionary))\n",
    "print(validAnagrams('abcdef',dictionary))"
   ]
  },
  {
   "cell_type": "code",
   "execution_count": null,
   "metadata": {},
   "outputs": [],
   "source": []
  }
 ],
 "metadata": {
  "kernelspec": {
   "display_name": "Python 3",
   "language": "python",
   "name": "python3"
  },
  "language_info": {
   "codemirror_mode": {
    "name": "ipython",
    "version": 3
   },
   "file_extension": ".py",
   "mimetype": "text/x-python",
   "name": "python",
   "nbconvert_exporter": "python",
   "pygments_lexer": "ipython3",
   "version": "3.8.5"
  }
 },
 "nbformat": 4,
 "nbformat_minor": 4
}
